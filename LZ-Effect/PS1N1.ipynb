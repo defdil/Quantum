{
 "cells": [
  {
   "cell_type": "code",
   "execution_count": 1,
   "metadata": {},
   "outputs": [],
   "source": [
    "# Problem Set 1 (LZ - Effect) Numerics 1 \n",
    "import matplotlib.pyplot as plt\n",
    "import numpy as np\n",
    "from qutip import *"
   ]
  },
  {
   "cell_type": "code",
   "execution_count": 3,
   "metadata": {
    "scrolled": true
   },
   "outputs": [
    {
     "data": {
      "image/png": "[encoded data removed]",
      "text/plain": [
       "<Figure size 432x288 with 1 Axes>"
      ]
     },
     "metadata": {
      "needs_background": "light"
     },
     "output_type": "display_data"
    }
   ],
   "source": [
    "# Pauli Matrices\n",
    "x = sigmax() \n",
    "y = sigmay()\n",
    "z = sigmaz()\n",
    "\n",
    "\n",
    "# Define the variables for Hamiltonian \n",
    "delta = np.linspace(start = -5, stop = 5, num = 101) # delta = [-5, 5]\n",
    "Epsilon = 1\n",
    "eigvalues_to_plot = [[int for i in range(2)] for j in range(101)]\n",
    "\n",
    "# Define Hamiltonian and store eigenvalues for each hamiltonian\n",
    "for i in range (0, len(delta)):\n",
    "    H = -0.5*(Epsilon*z + delta[i]*x)\n",
    "    eigvalues_to_plot[i] = H.eigenstates()[0]\n",
    "\n",
    "plt.plot(delta, eigvalues_to_plot)\n",
    "plt.title('Eigenvalues of \\'H =  -0.5(\\u03B5*\\u03C3z + \\u0394*\\u03C3x)\\'')\n",
    "plt.xlabel('\\u0394 values')\n",
    "plt.ylabel('eigenvalues')\n",
    "plt.show()\n",
    "    \n",
    "    \n"
   ]
  },
  {
   "cell_type": "code",
   "execution_count": 3,
   "metadata": {},
   "outputs": [
    {
     "name": "stdout",
     "output_type": "stream",
     "text": [
      "Ground state for delta =  -5.0  is  [[-0.77334214+0.j]\n",
      " [ 0.63398891+0.j]]\n",
      "First excited state for delta =  -5.0  is  [[0.63398891+0.j]\n",
      " [0.77334214+0.j]] \n",
      "\n",
      "Ground state for delta =  0.0  is  [[-1.+0.j]\n",
      " [ 0.+0.j]]\n",
      "First excited state for delta =  0.0  is  [[0.+0.j]\n",
      " [1.+0.j]] \n",
      "\n",
      "Ground state for delta =  5.0  is  [[-0.77334214+0.j]\n",
      " [-0.63398891+0.j]]\n",
      "First excited state for delta =  5.0  is  [[-0.63398891+0.j]\n",
      " [ 0.77334214+0.j]] \n",
      "\n"
     ]
    }
   ],
   "source": [
    "# part a: find the ground and first excited states of the quantum system for delta = -5, 0, 5\n",
    "delta = np.linspace(start = -5, stop = 5, num = 3) \n",
    "Epsilon = 1\n",
    "\n",
    "# Define Hamiltonian and find the states\n",
    "for i in range (0, len(delta)):\n",
    "    H = -0.5*(Epsilon*z + delta[i]*x)\n",
    "    print('Ground state for delta = ', delta[i], ' is ', H.eigenstates()[1][0].full()) # the second array of arrays in \n",
    "    # eigenstates gives the eigenvectors for the operator, ground and excited states in order\n",
    "    print('First excited state for delta = ', delta[i], ' is ', H.eigenstates()[1][1].full(), '\\n')"
   ]
  }
 ],
 "metadata": {
  "kernelspec": {
   "display_name": "Python 3",
   "language": "python",
   "name": "python3"
  },
  "language_info": {
   "codemirror_mode": {
    "name": "ipython",
    "version": 3
   },
   "file_extension": ".py",
   "mimetype": "text/x-python",
   "name": "python",
   "nbconvert_exporter": "python",
   "pygments_lexer": "ipython3",
   "version": "3.7.3"
  }
 },
 "nbformat": 4,
 "nbformat_minor": 2
}
