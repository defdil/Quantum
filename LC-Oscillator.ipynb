{
 "cells": [
  {
   "cell_type": "code",
   "execution_count": 1,
   "metadata": {},
   "outputs": [],
   "source": [
    "from qutip import *\n",
    "from scipy import *\n",
    "from pylab import *\n",
    "from numpy import *\n",
    "import numpy as np\n",
    "import matplotlib.pyplot as plt"
   ]
  },
  {
   "cell_type": "code",
   "execution_count": 2,
   "metadata": {},
   "outputs": [],
   "source": [
    "nmax = 9; # number of cavity mode\n",
    "planck = 6.62607004*(10**(-24))\n",
    "omega_0 = 2*np.pi*1.6*(10**9)\n",
    "\n",
    "# Operators two-level system\n",
    "sx = sigmax()\n",
    "sz = sigmaz()\n",
    "sp = sigmap()\n",
    "sm = sigmam()\n",
    "# Operator cavity mode\n",
    "am = destroy(nmax)\n",
    "ap = create(nmax)\n",
    "\n",
    "Hamiltonian = Qobj(inpt = planck*omega_0*(np.matmul(am.full(), ap.full()) + 0.5))\n",
    "eigenvalues = [[float for i in range(100)] for j in range (9)]\n",
    "time_array = np.linspace(start = 0, stop = 10, num = 100)\n",
    "for i in range (0, 9):\n",
    "    eigenvalues[i] = [Hamiltonian.eigenstates()[0][i] for j in range (100)] "
   ]
  },
  {
   "cell_type": "code",
   "execution_count": 3,
   "metadata": {},
   "outputs": [
    {
     "data": {
      "image/png": "[encoded data removed]",
      "text/plain": [
       "<Figure size 432x288 with 1 Axes>"
      ]
     },
     "metadata": {
      "needs_background": "light"
     },
     "output_type": "display_data"
    }
   ],
   "source": [
    "plt.plot(time_array, eigenvalues[0], label = \"1st energy level\")\n",
    "plt.plot(time_array, eigenvalues[1], label = \"2nd energy level\")\n",
    "plt.plot(time_array, eigenvalues[2], label = \"3rd energy level\")\n",
    "plt.plot(time_array, eigenvalues[3], label = \"4th energy level\")\n",
    "plt.plot(time_array, eigenvalues[4], label = \"5th energy level\")\n",
    "plt.plot(time_array, eigenvalues[5], label = \"6th energy level\")\n",
    "plt.plot(time_array, eigenvalues[6], label = \"7th energy level\")\n",
    "plt.plot(time_array, eigenvalues[7], label = \"8th energy level\")\n",
    "# plt.legend()\n",
    "plt.title(\"Energy spectrum of Harmonic Oscillator\")\n",
    "\n",
    "# hide x-axis\n",
    "frame1 = plt.gca()\n",
    "frame1.axes.get_xaxis().set_visible(False)\n",
    "\n",
    "plt.show()"
   ]
  }
 ],
 "metadata": {
  "kernelspec": {
   "display_name": "Python 3",
   "language": "python",
   "name": "python3"
  },
  "language_info": {
   "codemirror_mode": {
    "name": "ipython",
    "version": 3
   },
   "file_extension": ".py",
   "mimetype": "text/x-python",
   "name": "python",
   "nbconvert_exporter": "python",
   "pygments_lexer": "ipython3",
   "version": "3.7.3"
  }
 },
 "nbformat": 4,
 "nbformat_minor": 2
}
